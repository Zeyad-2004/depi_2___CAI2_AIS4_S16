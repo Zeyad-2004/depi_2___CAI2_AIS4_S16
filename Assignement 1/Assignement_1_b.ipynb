{
  "cells": [
    {
      "cell_type": "markdown",
      "id": "b0e54bd3",
      "metadata": {
        "id": "b0e54bd3"
      },
      "source": [
        "## Question 1:\n",
        "Write a Python function called greet_user that takes two parameters: name (a string representing the user's name) and greeting (a string representing a greeting message). The function should print the personalized greeting message. If the greeting parameter is not provided, the function should use \"Hello\" as the default greeting.\n",
        "\n",
        "Expected Output:\n",
        "\n",
        "If the user's name is \"Alice\" and no specific greeting is provided, the function should print \"Hello, Alice!\".\n",
        "\n",
        "Please write the Python code for the greet_user function and demonstrate its usage with different examples, both with and without a specific greeting"
      ]
    },
    {
      "cell_type": "code",
      "execution_count": 1,
      "id": "b692411b",
      "metadata": {
        "id": "b692411b"
      },
      "outputs": [],
      "source": [
        "def greet_user(name, greeting=\"Hello\"):\n",
        "  \"\"\"\n",
        "  This function greets the user with a personalized message.\n",
        "\n",
        "  Args:\n",
        "      name: The user's name (string).\n",
        "      greeting: The greeting message (string, default is \"Hello\").\n",
        "  \"\"\"\n",
        "  # Print the personalized greeting\n",
        "  print(f\"{greeting}, {name}!\")"
      ]
    },
    {
      "cell_type": "code",
      "execution_count": 9,
      "id": "37d812aa",
      "metadata": {
        "colab": {
          "base_uri": "https://localhost:8080/"
        },
        "id": "37d812aa",
        "outputId": "f77e15fa-8ed9-4247-f137-f9ced65fcfc6"
      },
      "outputs": [
        {
          "output_type": "stream",
          "name": "stdout",
          "text": [
            "Hello, Zeyad!\n",
            "Welcome back, Zeyad!\n"
          ]
        }
      ],
      "source": [
        "user_name = \"Zeyad\"\n",
        "greet_user(user_name) # Hello, Zeyad!\n",
        "greet_user(user_name, \"Welcome back\") # Welcome back, Zeyad!\n"
      ]
    },
    {
      "cell_type": "markdown",
      "id": "43a5f688",
      "metadata": {
        "id": "43a5f688"
      },
      "source": [
        "## Question 2:\n",
        "Write a Python program that takes two tuples as input, each containing integers, and returns a new tuple containing the element-wise sum of the corresponding elements from the input tuples. Assume the input tuples have the same length.\n",
        "\n",
        "Expected Output:\n",
        "\n",
        "If the input tuples are (1, 2, 3) and (4, 5, 6), the program should return (5, 7, 9).\n",
        "Please write the Python code to accomplish this task."
      ]
    },
    {
      "cell_type": "code",
      "execution_count": 12,
      "id": "f2e4bd5e",
      "metadata": {
        "colab": {
          "base_uri": "https://localhost:8080/"
        },
        "id": "f2e4bd5e",
        "outputId": "bf8fa04f-dc78-46cf-8608-8865f3f82fed"
      },
      "outputs": [
        {
          "output_type": "stream",
          "name": "stdout",
          "text": [
            "(5, 7, 9)\n",
            "(5, 10, 14, 17)\n"
          ]
        }
      ],
      "source": [
        "def sum_tuples(tuple1, tuple2):\n",
        "  \"\"\"\n",
        "  This function takes two tuples of integers and returns a new tuple\n",
        "  containing the element-wise sum of the corresponding elements.\n",
        "\n",
        "  Args:\n",
        "    tuple1: The first tuple of integers.\n",
        "    tuple2: The second tuple of integers.\n",
        "\n",
        "  Returns:\n",
        "    A new tuple with element-wise sums, or None if input is invalid.\n",
        "  \"\"\"\n",
        "\n",
        "  # Check if the input tuples have the same length\n",
        "  if len(tuple1) != len(tuple2):\n",
        "    print(\"Error: Input tuples must have the same length.\")\n",
        "    return None\n",
        "\n",
        "\n",
        "  # Since tuples are immutable so first we will make a list to store data in it\n",
        "  # Then covered back it to a tuple and return it\n",
        "\n",
        "  summed_elements = list(tuple1);\n",
        "\n",
        "  for i in range(0, len(tuple1)):\n",
        "    summed_elements[i] = tuple1[i] + tuple2[i]\n",
        "\n",
        "  return tuple(summed_elements)\n",
        "\n",
        "\n",
        "# Example Usage\n",
        "tuple1 = (1, 2, 3)\n",
        "tuple2 = (4, 5, 6)\n",
        "result_tuple = sum_tuples(tuple1, tuple2)\n",
        "print(result_tuple)  # Output: (5, 7, 9)\n",
        "\n",
        "tuple3 = (1,5,8,10)\n",
        "tuple4 = (4,5,6,7)\n",
        "result = sum_tuples(tuple3, tuple4)\n",
        "print(result) # Output: (5,10,14,17)"
      ]
    },
    {
      "cell_type": "markdown",
      "id": "eb50ce3a",
      "metadata": {
        "id": "eb50ce3a"
      },
      "source": [
        "## Question 3:\n",
        "Write a Python program that prompts the user to guess a secret number between 1 and 10. The program should continue to prompt the user for guesses until they correctly guess the secret number. Provide feedback to the user if their guess is too high or too low.\n",
        "\n",
        "Expected Output:\n",
        "\n",
        "If the secret number is 7 and the user's guesses are 5, 8, 7, the program should print:\n",
        "\n",
        "\"Too low! Try again.\"\n",
        "\n",
        "\"Too high! Try again.\"\n",
        "\n",
        "\"Congratulations! You guessed the secret number 7.\"\n",
        "\n",
        "Please write the Python code for this guessing game using a while loop."
      ]
    },
    {
      "cell_type": "code",
      "execution_count": 16,
      "id": "227d8033",
      "metadata": {
        "id": "227d8033"
      },
      "outputs": [],
      "source": [
        "import random\n",
        "\n",
        "def guess_game():\n",
        "    \"\"\"\n",
        "    This function implements a simple number guessing game.\n",
        "    The user is prompted to guess a secret number between 1 and 10.\n",
        "    The game continues until the user guesses the correct number.\n",
        "    \"\"\"\n",
        "\n",
        "    secret_number = random.randint(1, 10)  # Generate a random secret number\n",
        "\n",
        "    while True:\n",
        "        user_guess = int(input(\"Guess a number between 1 and 10: \"))  # Get user's guess\n",
        "\n",
        "        if user_guess == secret_number:\n",
        "            print(f\"Congratulations! You guessed the secret number [{secret_number}].\")\n",
        "            break  # Exit the loop if the guess is correct\n",
        "        elif user_guess < secret_number:\n",
        "            print(\"Too low! Try again.\")\n",
        "        else:\n",
        "            print(\"Too high! Try again.\")"
      ]
    },
    {
      "cell_type": "code",
      "execution_count": null,
      "id": "3d36701b",
      "metadata": {
        "id": "3d36701b"
      },
      "outputs": [],
      "source": [
        "# Start Game by call 'guess_game' function\n",
        "guess_game()"
      ]
    },
    {
      "cell_type": "markdown",
      "id": "e3c169ff",
      "metadata": {
        "id": "e3c169ff"
      },
      "source": [
        "## Question 4:\n",
        "Write a Python program that takes a list of words as input and creates a dictionary where the keys are the unique words in the list, and the values are lists containing the indices (positions) at which each word appears in the list.\n",
        "\n",
        "Expected Output:\n",
        "\n",
        "If the input list is [\"apple\", \"banana\", \"orange\", \"banana\", \"kiwi\", \"apple\"], the program should return {'apple': [0,5], 'banana': [1,3], 'orange': [2], 'kiwi': [4]}.\n",
        "Please write the Python code to accomplish this task."
      ]
    },
    {
      "cell_type": "code",
      "execution_count": 28,
      "id": "c1f00882",
      "metadata": {
        "id": "c1f00882"
      },
      "outputs": [],
      "source": [
        "def word_indices(word_list):\n",
        "  '''\n",
        "  This function take a list of words and output the indexs of each distinct words\n",
        "\n",
        "  Args:\n",
        "  word_list : list of words\n",
        "\n",
        "  '''\n",
        "\n",
        "  # First create our dictionary\n",
        "  dictionary = {}\n",
        "\n",
        "  # Iterate over word_list then add for each unique word the indices of it's appearance\n",
        "  for i in range(0, len(word_list)):\n",
        "    if word_list[i] not in dictionary:\n",
        "      dictionary[word_list[i]] = [i]\n",
        "    else:\n",
        "      dictionary[word_list[i]].append(i)\n",
        "\n",
        "  print(dictionary)\n"
      ]
    },
    {
      "cell_type": "code",
      "execution_count": 29,
      "id": "e3d64d4a",
      "metadata": {
        "colab": {
          "base_uri": "https://localhost:8080/"
        },
        "id": "e3d64d4a",
        "outputId": "5ddac00a-1946-484b-f159-22ba87ab213f"
      },
      "outputs": [
        {
          "output_type": "stream",
          "name": "stdout",
          "text": [
            "{'apple': [0, 5], 'banana': [1, 3], 'orange': [2], 'kiwi': [4]}\n"
          ]
        }
      ],
      "source": [
        "list = [\"apple\", \"banana\", \"orange\", \"banana\", \"kiwi\", \"apple\"]\n",
        "word_indices(list)"
      ]
    }
  ],
  "metadata": {
    "kernelspec": {
      "display_name": "Python 3 (ipykernel)",
      "language": "python",
      "name": "python3"
    },
    "language_info": {
      "codemirror_mode": {
        "name": "ipython",
        "version": 3
      },
      "file_extension": ".py",
      "mimetype": "text/x-python",
      "name": "python",
      "nbconvert_exporter": "python",
      "pygments_lexer": "ipython3",
      "version": "3.12.7"
    },
    "colab": {
      "provenance": []
    }
  },
  "nbformat": 4,
  "nbformat_minor": 5
}
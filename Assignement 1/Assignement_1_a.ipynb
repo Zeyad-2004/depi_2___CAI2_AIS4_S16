{
  "cells": [
    {
      "cell_type": "markdown",
      "metadata": {
        "id": "JkV3swulE_af"
      },
      "source": [
        "## Python Task 3"
      ]
    },
    {
      "cell_type": "markdown",
      "metadata": {
        "id": "db3Te9EhE_ah"
      },
      "source": [
        "### Question: Count Vowels in a String\n",
        "\n",
        "**Description:** Write a function named count_vowels that takes a string as an argument and returns the count of vowels (a, e, i, o, u) in the string.\n",
        "\n",
        "The function should be case-insensitive, counting both uppercase and lowercase vowels.\n"
      ]
    },
    {
      "cell_type": "code",
      "execution_count": 1,
      "metadata": {
        "id": "7KCQ_oQhE_ah"
      },
      "outputs": [],
      "source": [
        "def count_vowels(string):\n",
        "    \"\"\"\n",
        "    Counts the number of vowels (a, e, i, o, u) in a string.\n",
        "\n",
        "    Args:\n",
        "        string: The input string.\n",
        "\n",
        "    Returns:\n",
        "        The number of vowels in the string.\n",
        "    \"\"\"\n",
        "\n",
        "    # Convert the string to lowercase for case-insensitive counting\n",
        "    string = string.lower()\n",
        "\n",
        "    # Initialize a counter for vowels\n",
        "    vowerls_count = 0\n",
        "\n",
        "    # Iterate through each character in the string\n",
        "    for character in string:\n",
        "\n",
        "        # Check if the character is a vowel\n",
        "        if(character == 'a' or character == 'i' or character == 'o' or character == 'u' or character == 'e'):\n",
        "            # Increment the vowel count if it is a vowel\n",
        "            vowerls_count += 1\n",
        "\n",
        "    # Return the total vowel count\n",
        "    return vowerls_count"
      ]
    },
    {
      "cell_type": "code",
      "execution_count": 6,
      "metadata": {
        "colab": {
          "base_uri": "https://localhost:8080/"
        },
        "id": "BQ5zIjcuE_ai",
        "outputId": "077ffd25-3be2-4670-8749-d009b3b706a7"
      },
      "outputs": [
        {
          "output_type": "stream",
          "name": "stdout",
          "text": [
            "4\n"
          ]
        }
      ],
      "source": [
        "text = \"count vowels\"\n",
        "print(count_vowels(text)) # 4"
      ]
    },
    {
      "cell_type": "markdown",
      "metadata": {
        "id": "A8jINKaxE_ai"
      },
      "source": [
        "### Question: Find the Maximum Value in a List Using a Function\n",
        "Description: Write a function named find_max that takes a list of integers as an argument and returns the maximum value in the list.\n",
        "\n",
        "Do not use Python’s built-in max() function. The function should handle cases where the list is empty by returning None.\n"
      ]
    },
    {
      "cell_type": "code",
      "execution_count": null,
      "metadata": {
        "id": "N__-_GC_E_ai"
      },
      "outputs": [],
      "source": [
        "def list_max(list):\n",
        "  \"\"\"\n",
        "  Finds the maximum value in a list of integers.\n",
        "\n",
        "  Args:\n",
        "      list: The input list of integers.\n",
        "\n",
        "  Returns:\n",
        "      The maximum value in the list, or None if the list is empty.\n",
        "  \"\"\"\n",
        "  # Assume the first element of the list is the maximum initially\n",
        "  max = list[0]\n",
        "\n",
        "  # Iterate through each element in the list\n",
        "  for i in list:\n",
        "    # If the current element (i) is greater than the current maximum\n",
        "    if i > max:\n",
        "      # Update the maximum to the current element\n",
        "      max = i\n",
        "\n",
        "  # Return the final maximum value\n",
        "  return max"
      ]
    },
    {
      "cell_type": "code",
      "execution_count": 5,
      "metadata": {
        "colab": {
          "base_uri": "https://localhost:8080/"
        },
        "id": "vcGXgE6fE_ai",
        "outputId": "a624c75d-1776-461e-d281-b67d447065de"
      },
      "outputs": [
        {
          "output_type": "stream",
          "name": "stdout",
          "text": [
            "8\n"
          ]
        }
      ],
      "source": [
        "numbers = [3, 5, 2, 8, 1]\n",
        "\n",
        "print(list_max(numbers)) # 8"
      ]
    }
  ],
  "metadata": {
    "kernelspec": {
      "display_name": "Python 3 (ipykernel)",
      "language": "python",
      "name": "python3"
    },
    "language_info": {
      "codemirror_mode": {
        "name": "ipython",
        "version": 3
      },
      "file_extension": ".py",
      "mimetype": "text/x-python",
      "name": "python",
      "nbconvert_exporter": "python",
      "pygments_lexer": "ipython3",
      "version": "3.12.7"
    },
    "colab": {
      "provenance": []
    }
  },
  "nbformat": 4,
  "nbformat_minor": 0
}